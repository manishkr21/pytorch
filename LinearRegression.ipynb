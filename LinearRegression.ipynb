{
  "nbformat": 4,
  "nbformat_minor": 0,
  "metadata": {
    "colab": {
      "provenance": [],
      "gpuType": "T4",
      "authorship_tag": "ABX9TyObuVrs9w9tlNxEufUKzL22",
      "include_colab_link": true
    },
    "kernelspec": {
      "name": "python3",
      "display_name": "Python 3"
    },
    "language_info": {
      "name": "python"
    }
  },
  "cells": [
    {
      "cell_type": "markdown",
      "metadata": {
        "id": "view-in-github",
        "colab_type": "text"
      },
      "source": [
        "<a href=\"https://colab.research.google.com/github/manishkr21/pytorch/blob/main/LinearRegression.ipynb\" target=\"_parent\"><img src=\"https://colab.research.google.com/assets/colab-badge.svg\" alt=\"Open In Colab\"/></a>"
      ]
    },
    {
      "cell_type": "markdown",
      "source": [
        "## Library import"
      ],
      "metadata": {
        "id": "bZGCtCk_eZPn"
      }
    },
    {
      "cell_type": "code",
      "execution_count": 301,
      "metadata": {
        "id": "SduOWPRK8ivM"
      },
      "outputs": [],
      "source": [
        "import torch\n",
        "import torch.nn as nn\n",
        "import matplotlib.pyplot as plt\n",
        "import numpy as np\n",
        "from torch.nn import Linear"
      ]
    },
    {
      "cell_type": "code",
      "source": [
        "# w = torch.tensor(3.0, requires_grad= True)\n",
        "# b = torch.tensor(1.0, requires_grad= True)"
      ],
      "metadata": {
        "id": "_2wV3zoP91wD"
      },
      "execution_count": 302,
      "outputs": []
    },
    {
      "cell_type": "code",
      "source": [
        "# make predition provided that you do have a model\n",
        "# def forward(x):\n",
        "#   y = w*x + b\n",
        "#   return y"
      ],
      "metadata": {
        "id": "eJVx8anw-njO"
      },
      "execution_count": 303,
      "outputs": []
    },
    {
      "cell_type": "code",
      "source": [
        "# x = torch.tensor(2)\n",
        "# forward(x)   # our model predict here as 7"
      ],
      "metadata": {
        "id": "YEwzP9Nl-1kz"
      },
      "execution_count": 304,
      "outputs": []
    },
    {
      "cell_type": "code",
      "source": [
        "# x = torch.tensor([[4],[7]])\n",
        "# forward(x)   # our model predict here as 7"
      ],
      "metadata": {
        "id": "KkDm7MCh-9Eq"
      },
      "execution_count": 305,
      "outputs": []
    },
    {
      "cell_type": "code",
      "source": [
        "# standard way to initialize a class"
      ],
      "metadata": {
        "id": "ln44J2XK_cJC"
      },
      "execution_count": 306,
      "outputs": []
    },
    {
      "cell_type": "code",
      "source": [
        "# torch.manual_seed(1)\n",
        "# model = Linear(in_features = 1, out_features = 1)\n",
        "# print(model.bias, model.weight)"
      ],
      "metadata": {
        "id": "dsZRG5Cq_5iv"
      },
      "execution_count": 307,
      "outputs": []
    },
    {
      "cell_type": "code",
      "source": [
        "# x = torch.tensor([2.0])\n",
        "# print(model(x))"
      ],
      "metadata": {
        "id": "GFUQsHbEBFbx"
      },
      "execution_count": 308,
      "outputs": []
    },
    {
      "cell_type": "code",
      "source": [
        "# x = torch.tensor([[2.0], [3.3]])\n",
        "# print(model(x))"
      ],
      "metadata": {
        "id": "6h63xBiRAXN9"
      },
      "execution_count": 309,
      "outputs": []
    },
    {
      "cell_type": "code",
      "source": [
        "### Custom Modules"
      ],
      "metadata": {
        "id": "IkUR038GBTbB"
      },
      "execution_count": 310,
      "outputs": []
    },
    {
      "cell_type": "markdown",
      "source": [
        "## **Model Class Constructor**"
      ],
      "metadata": {
        "id": "dNN-ZAg3etAu"
      }
    },
    {
      "cell_type": "code",
      "source": [
        "class LR(nn.Module):   # inherit the property of nn.Module class\n",
        "  def __init__(self, input_size, output_size):\n",
        "    super().__init__()\n",
        "    self.linear = nn.Linear(input_size, output_size)\n",
        "  def forward(self, x):\n",
        "    pred = self.linear(x)\n",
        "    return pred\n"
      ],
      "metadata": {
        "id": "4B79floDBV0w"
      },
      "execution_count": 311,
      "outputs": []
    },
    {
      "cell_type": "markdown",
      "source": [
        "## **Model Instantiation**"
      ],
      "metadata": {
        "id": "mZc3HIX8e1-1"
      }
    },
    {
      "cell_type": "code",
      "source": [
        "torch.manual_seed(1)\n",
        "model = LR(1,1)\n",
        "print(list(model.parameters()))"
      ],
      "metadata": {
        "colab": {
          "base_uri": "https://localhost:8080/"
        },
        "id": "fRO1WePJCTQM",
        "outputId": "b9c32e67-dd6b-45bb-a7f5-f2e8d5dbb0eb"
      },
      "execution_count": 312,
      "outputs": [
        {
          "output_type": "stream",
          "name": "stdout",
          "text": [
            "[Parameter containing:\n",
            "tensor([[0.5153]], requires_grad=True), Parameter containing:\n",
            "tensor([-0.4414], requires_grad=True)]\n"
          ]
        }
      ]
    },
    {
      "cell_type": "code",
      "source": [
        "# x = torch.tensor([1.0])\n",
        "# print(model.forward(x))"
      ],
      "metadata": {
        "id": "2KRL5hvTCtpw"
      },
      "execution_count": 313,
      "outputs": []
    },
    {
      "cell_type": "code",
      "source": [
        "# x = torch.tensor([[1.0],[2.0]])\n",
        "# print(model.forward(x))"
      ],
      "metadata": {
        "id": "6xhBfS-ADcal"
      },
      "execution_count": 314,
      "outputs": []
    },
    {
      "cell_type": "code",
      "source": [
        "### Creating Dataset"
      ],
      "metadata": {
        "id": "18JaJWiAD_-C"
      },
      "execution_count": 315,
      "outputs": []
    },
    {
      "cell_type": "markdown",
      "source": [
        "## **Initializing Dataset**"
      ],
      "metadata": {
        "id": "ImneASxBelfP"
      }
    },
    {
      "cell_type": "code",
      "source": [
        "X = torch.randn(100, 1) * 10   # muliplyt with 10 to increase value\n",
        "y = X + 3*torch.randn(100, 1)    # add noise\n",
        "plt.plot(X,y, 'o')\n",
        "plt.ylabel('y')\n",
        "plt.xlabel('x')"
      ],
      "metadata": {
        "colab": {
          "base_uri": "https://localhost:8080/",
          "height": 466
        },
        "id": "XFV3_PtIEThP",
        "outputId": "0dd0f679-c6b0-4f3c-c51b-bd68df3fa42c"
      },
      "execution_count": 316,
      "outputs": [
        {
          "output_type": "execute_result",
          "data": {
            "text/plain": [
              "Text(0.5, 0, 'x')"
            ]
          },
          "metadata": {},
          "execution_count": 316
        },
        {
          "output_type": "display_data",
          "data": {
            "text/plain": [
              "<Figure size 640x480 with 1 Axes>"
            ],
            "image/png": "[encoded data removed]"
          },
          "metadata": {}
        }
      ]
    },
    {
      "cell_type": "markdown",
      "source": [
        "## **Extracting Model Parameters**"
      ],
      "metadata": {
        "id": "OO_zgix2gM6x"
      }
    },
    {
      "cell_type": "code",
      "source": [
        "[w,b] = model.parameters()\n",
        "\n",
        "def get_params():\n",
        "  return (w[0][0].item(), b[0].item())"
      ],
      "metadata": {
        "id": "lRUC5WPTEiCO"
      },
      "execution_count": 317,
      "outputs": []
    },
    {
      "cell_type": "markdown",
      "source": [
        "## **Defining Plot_fit funtion**"
      ],
      "metadata": {
        "id": "23LADVfKfCLk"
      }
    },
    {
      "cell_type": "code",
      "source": [
        "def plot_fit(title):\n",
        "  plt.title = title\n",
        "  w1, b1 = get_params()\n",
        "  x1 = np.array([-30, 30])\n",
        "  y1 = w1* x1 + b1\n",
        "  plt.plot(x1, y1, 'r')\n",
        "  plt.grid()\n",
        "  plt.scatter(X, y)\n",
        "  plt.show()"
      ],
      "metadata": {
        "id": "Et8KV37AGZuE"
      },
      "execution_count": 318,
      "outputs": []
    },
    {
      "cell_type": "markdown",
      "source": [
        "## **Plotting Initial Model**"
      ],
      "metadata": {
        "id": "BFYACF2qfLYj"
      }
    },
    {
      "cell_type": "code",
      "source": [
        "plot_fit('Initial Model')"
      ],
      "metadata": {
        "colab": {
          "base_uri": "https://localhost:8080/",
          "height": 430
        },
        "id": "0IrlDozcG1yo",
        "outputId": "499b40e3-1dd5-4b0c-b416-4b50452fbe2f"
      },
      "execution_count": 319,
      "outputs": [
        {
          "output_type": "display_data",
          "data": {
            "text/plain": [
              "<Figure size 640x480 with 1 Axes>"
            ],
            "image/png": "[encoded data removed]"
          },
          "metadata": {}
        }
      ]
    },
    {
      "cell_type": "code",
      "source": [
        "### Mean Square Loss"
      ],
      "metadata": {
        "id": "Jw6MquG6HD6_"
      },
      "execution_count": 320,
      "outputs": []
    },
    {
      "cell_type": "markdown",
      "source": [
        "## **Specifying Loss and Optimizer**"
      ],
      "metadata": {
        "id": "vHQYrUizfTdC"
      }
    },
    {
      "cell_type": "code",
      "source": [
        "criterion = nn.MSELoss()\n",
        "optimizer = torch.optim.SGD(model.parameters(), lr= 0.001)"
      ],
      "metadata": {
        "id": "kfj10tVeZaoc"
      },
      "execution_count": 321,
      "outputs": []
    },
    {
      "cell_type": "markdown",
      "source": [
        "## **Training Model**"
      ],
      "metadata": {
        "id": "T-wMTgYQfZFD"
      }
    },
    {
      "cell_type": "code",
      "source": [
        "epochs = 100\n",
        "losses = []\n",
        "for i in range(epochs):\n",
        "\n",
        "  # forward pass\n",
        "  y_pred = model.forward(X)\n",
        "  loss = criterion(y_pred, y)     # calculate loss\n",
        "\n",
        "  print(\"epoch:\", i,\"loss:\", loss.item())\n",
        "  losses.append(loss.item())\n",
        "\n",
        "  optimizer.zero_grad()           # make gradient zero\n",
        "\n",
        "  # backward pass and optmization\n",
        "  loss.backward()                 #\n",
        "  optimizer.step()                # optimizer to reduce the weight"
      ],
      "metadata": {
        "colab": {
          "base_uri": "https://localhost:8080/"
        },
        "id": "ArQU7F0wZfxa",
        "outputId": "2e1915d6-57bf-42b5-ac96-ececc7494102"
      },
      "execution_count": 322,
      "outputs": [
        {
          "output_type": "stream",
          "name": "stdout",
          "text": [
            "epoch: 0 loss: 36.448326110839844\n",
            "epoch: 1 loss: 25.847070693969727\n",
            "epoch: 2 loss: 19.274921417236328\n",
            "epoch: 3 loss: 15.200486183166504\n",
            "epoch: 4 loss: 12.674422264099121\n",
            "epoch: 5 loss: 11.10822868347168\n",
            "epoch: 6 loss: 10.137072563171387\n",
            "epoch: 7 loss: 9.534791946411133\n",
            "epoch: 8 loss: 9.161184310913086\n",
            "epoch: 9 loss: 8.92933464050293\n",
            "epoch: 10 loss: 8.785365104675293\n",
            "epoch: 11 loss: 8.69587516784668\n",
            "epoch: 12 loss: 8.640159606933594\n",
            "epoch: 13 loss: 8.605380058288574\n",
            "epoch: 14 loss: 8.583581924438477\n",
            "epoch: 15 loss: 8.569831848144531\n",
            "epoch: 16 loss: 8.56106948852539\n",
            "epoch: 17 loss: 8.555403709411621\n",
            "epoch: 18 loss: 8.551656723022461\n",
            "epoch: 19 loss: 8.549099922180176\n",
            "epoch: 20 loss: 8.547282218933105\n",
            "epoch: 21 loss: 8.545924186706543\n",
            "epoch: 22 loss: 8.544849395751953\n",
            "epoch: 23 loss: 8.543954849243164\n",
            "epoch: 24 loss: 8.543170928955078\n",
            "epoch: 25 loss: 8.54245662689209\n",
            "epoch: 26 loss: 8.541786193847656\n",
            "epoch: 27 loss: 8.541145324707031\n",
            "epoch: 28 loss: 8.540521621704102\n",
            "epoch: 29 loss: 8.539909362792969\n",
            "epoch: 30 loss: 8.539307594299316\n",
            "epoch: 31 loss: 8.538711547851562\n",
            "epoch: 32 loss: 8.538119316101074\n",
            "epoch: 33 loss: 8.537530899047852\n",
            "epoch: 34 loss: 8.536945343017578\n",
            "epoch: 35 loss: 8.536364555358887\n",
            "epoch: 36 loss: 8.535784721374512\n",
            "epoch: 37 loss: 8.535205841064453\n",
            "epoch: 38 loss: 8.53463363647461\n",
            "epoch: 39 loss: 8.534061431884766\n",
            "epoch: 40 loss: 8.533492088317871\n",
            "epoch: 41 loss: 8.532923698425293\n",
            "epoch: 42 loss: 8.532360076904297\n",
            "epoch: 43 loss: 8.5317964553833\n",
            "epoch: 44 loss: 8.531234741210938\n",
            "epoch: 45 loss: 8.530675888061523\n",
            "epoch: 46 loss: 8.530119895935059\n",
            "epoch: 47 loss: 8.529565811157227\n",
            "epoch: 48 loss: 8.529012680053711\n",
            "epoch: 49 loss: 8.528463363647461\n",
            "epoch: 50 loss: 8.527915000915527\n",
            "epoch: 51 loss: 8.52737045288086\n",
            "epoch: 52 loss: 8.526826858520508\n",
            "epoch: 53 loss: 8.526284217834473\n",
            "epoch: 54 loss: 8.525745391845703\n",
            "epoch: 55 loss: 8.52520751953125\n",
            "epoch: 56 loss: 8.524674415588379\n",
            "epoch: 57 loss: 8.524140357971191\n",
            "epoch: 58 loss: 8.523609161376953\n",
            "epoch: 59 loss: 8.523080825805664\n",
            "epoch: 60 loss: 8.522553443908691\n",
            "epoch: 61 loss: 8.522029876708984\n",
            "epoch: 62 loss: 8.521507263183594\n",
            "epoch: 63 loss: 8.520986557006836\n",
            "epoch: 64 loss: 8.520466804504395\n",
            "epoch: 65 loss: 8.519950866699219\n",
            "epoch: 66 loss: 8.51943588256836\n",
            "epoch: 67 loss: 8.518924713134766\n",
            "epoch: 68 loss: 8.518413543701172\n",
            "epoch: 69 loss: 8.517904281616211\n",
            "epoch: 70 loss: 8.5173978805542\n",
            "epoch: 71 loss: 8.516894340515137\n",
            "epoch: 72 loss: 8.51639175415039\n",
            "epoch: 73 loss: 8.515891075134277\n",
            "epoch: 74 loss: 8.515393257141113\n",
            "epoch: 75 loss: 8.51489543914795\n",
            "epoch: 76 loss: 8.51440143585205\n",
            "epoch: 77 loss: 8.513909339904785\n",
            "epoch: 78 loss: 8.513418197631836\n",
            "epoch: 79 loss: 8.512928009033203\n",
            "epoch: 80 loss: 8.512442588806152\n",
            "epoch: 81 loss: 8.511958122253418\n",
            "epoch: 82 loss: 8.511473655700684\n",
            "epoch: 83 loss: 8.510993957519531\n",
            "epoch: 84 loss: 8.510513305664062\n",
            "epoch: 85 loss: 8.51003646850586\n",
            "epoch: 86 loss: 8.509560585021973\n",
            "epoch: 87 loss: 8.509086608886719\n",
            "epoch: 88 loss: 8.508615493774414\n",
            "epoch: 89 loss: 8.50814437866211\n",
            "epoch: 90 loss: 8.50767707824707\n",
            "epoch: 91 loss: 8.507209777832031\n",
            "epoch: 92 loss: 8.506745338439941\n",
            "epoch: 93 loss: 8.5062837600708\n",
            "epoch: 94 loss: 8.50582218170166\n",
            "epoch: 95 loss: 8.505363464355469\n",
            "epoch: 96 loss: 8.504904747009277\n",
            "epoch: 97 loss: 8.504449844360352\n",
            "epoch: 98 loss: 8.503996849060059\n",
            "epoch: 99 loss: 8.503543853759766\n"
          ]
        }
      ]
    },
    {
      "cell_type": "code",
      "source": [
        "plt.plot(range(epochs), losses)\n",
        "plt.ylabel('Loss')\n",
        "plt.xlabel('epochs')\n",
        "plt.grid()"
      ],
      "metadata": {
        "colab": {
          "base_uri": "https://localhost:8080/",
          "height": 449
        },
        "id": "NWjW9HQeiZiX",
        "outputId": "d6b2f1e9-0beb-46b3-bdbc-7f1a50e1128a"
      },
      "execution_count": 324,
      "outputs": [
        {
          "output_type": "display_data",
          "data": {
            "text/plain": [
              "<Figure size 640x480 with 1 Axes>"
            ],
            "image/png": "[encoded data removed]"
          },
          "metadata": {}
        }
      ]
    },
    {
      "cell_type": "code",
      "source": [
        "plot_fit(\"Trained Model\")"
      ],
      "metadata": {
        "colab": {
          "base_uri": "https://localhost:8080/",
          "height": 430
        },
        "id": "Xt0tIOCxlYFu",
        "outputId": "bd3ed8a3-39cb-4001-e66a-35b886d4ba0e"
      },
      "execution_count": 325,
      "outputs": [
        {
          "output_type": "display_data",
          "data": {
            "text/plain": [
              "<Figure size 640x480 with 1 Axes>"
            ],
            "image/png": "[encoded data removed]"
          },
          "metadata": {}
        }
      ]
    },
    {
      "cell_type": "code",
      "source": [],
      "metadata": {
        "id": "9buNqhDel-4Z"
      },
      "execution_count": 325,
      "outputs": []
    }
  ]
}